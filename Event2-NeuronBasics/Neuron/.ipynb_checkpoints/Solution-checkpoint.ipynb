{
 "cells": [
  {
   "cell_type": "code",
   "execution_count": 3,
   "id": "c8bed88f52e38c42",
   "metadata": {
    "ExecuteTime": {
     "end_time": "2025-08-21T18:25:39.086968Z",
     "start_time": "2025-08-21T18:25:39.085079Z"
    }
   },
   "outputs": [],
   "source": [
    "import random\n",
    "import matplotlib.pyplot as plt"
   ]
  },
  {
   "cell_type": "markdown",
   "id": "2543a5313eb15136",
   "metadata": {},
   "source": [
    "# Ausgangslage"
   ]
  },
  {
   "cell_type": "code",
   "execution_count": 4,
   "id": "16a3cf9021e1252",
   "metadata": {
    "ExecuteTime": {
     "end_time": "2025-08-21T18:25:39.096574Z",
     "start_time": "2025-08-21T18:25:39.094819Z"
    }
   },
   "outputs": [],
   "source": [
    "# Your dataset\n",
    "x_inputs =       [0, 1,   2, 3,   4, 5]\n",
    "y_train_inputs = [2, 2.5, 3, 3.5, 4, 4.5]"
   ]
  },
  {
   "cell_type": "code",
   "execution_count": 5,
   "id": "f4e5663104874d55",
   "metadata": {
    "ExecuteTime": {
     "end_time": "2025-08-21T18:25:39.158853Z",
     "start_time": "2025-08-21T18:25:39.107509Z"
    }
   },
   "outputs": [
    {
     "data": {
      "image/png": "[encoded data removed]",
      "text/plain": [
       "<Figure size 640x480 with 1 Axes>"
      ]
     },
     "metadata": {},
     "output_type": "display_data"
    }
   ],
   "source": [
    "# funktion um die trainingsdaten zu visualisieren, wird unten nochmals verwendet\n",
    "def visualize(x_inputs, y_train_inputs):\n",
    "    # Scatter plot (points)\n",
    "    plt.scatter(x_inputs, y_train_inputs, color=\"blue\", label=\"Data points\")\n",
    "\n",
    "    # Line plot (connects points)\n",
    "    plt.plot(x_inputs, y_train_inputs, color=\"orange\", linestyle=\"--\", label=\"Line\")\n",
    "\n",
    "    # Labels and title\n",
    "    plt.xlabel(\"X values\")\n",
    "    plt.ylabel(\"Y values\")\n",
    "    plt.title(\"Visualization of x_inputs vs y_train_inputs\")\n",
    "    plt.legend()\n",
    "\n",
    "    # Show the plot\n",
    "    plt.show()\n",
    "\n",
    "visualize(x_inputs, y_train_inputs)"
   ]
  },
  {
   "cell_type": "markdown",
   "id": "4aa10726a4a4fd77",
   "metadata": {},
   "source": [
    "# Bereitstellung des Models\n"
   ]
  },
  {
   "cell_type": "code",
   "execution_count": 6,
   "id": "8006178938029d14",
   "metadata": {
    "ExecuteTime": {
     "end_time": "2025-08-21T18:25:39.168440Z",
     "start_time": "2025-08-21T18:25:39.166337Z"
    }
   },
   "outputs": [
    {
     "name": "stdout",
     "output_type": "stream",
     "text": [
      "Ich starte mit dem randmom weight: 1.8067836719238852\n"
     ]
    }
   ],
   "source": [
    "weight = random.uniform(1.0,5.0)\n",
    "\n",
    "print(f\"Ich starte mit dem randmom weight: {weight}\")"
   ]
  },
  {
   "cell_type": "code",
   "execution_count": 7,
   "id": "e7434ca32b2cf1d4",
   "metadata": {
    "ExecuteTime": {
     "end_time": "2025-08-21T18:25:39.198498Z",
     "start_time": "2025-08-21T18:25:39.196033Z"
    }
   },
   "outputs": [
    {
     "name": "stdout",
     "output_type": "stream",
     "text": [
      "Ich starte mit dem randmom weight: 4.317197448516279\n"
     ]
    }
   ],
   "source": [
    "bias = random.uniform(1.0,5.0)\n",
    "\n",
    "print(f\"Ich starte mit dem randmom weight: {bias}\")"
   ]
  },
  {
   "cell_type": "code",
   "execution_count": 8,
   "id": "fadbf9ba031ea404",
   "metadata": {
    "ExecuteTime": {
     "end_time": "2025-08-21T18:25:39.217294Z",
     "start_time": "2025-08-21T18:25:39.215076Z"
    }
   },
   "outputs": [
    {
     "name": "stdout",
     "output_type": "stream",
     "text": [
      "wir werden 10 mal trainieren\n"
     ]
    }
   ],
   "source": [
    "epochs = 10\n",
    "print(f\"wir werden {epochs} mal trainieren\")"
   ]
  },
  {
   "cell_type": "code",
   "execution_count": 9,
   "id": "83c154d257c0123a",
   "metadata": {
    "ExecuteTime": {
     "end_time": "2025-08-21T18:25:39.234050Z",
     "start_time": "2025-08-21T18:25:39.231979Z"
    }
   },
   "outputs": [
    {
     "name": "stdout",
     "output_type": "stream",
     "text": [
      "wir trainieren mit einer learning rate von 0.1\n"
     ]
    }
   ],
   "source": [
    "learning_rate = 0.1\n",
    "print(f\"wir trainieren mit einer learning rate von {learning_rate}\")\n"
   ]
  },
  {
   "cell_type": "markdown",
   "id": "77d93da013e01777",
   "metadata": {},
   "source": [
    "# wir starten das training"
   ]
  },
  {
   "cell_type": "code",
   "execution_count": 10,
   "id": "8938d1646b205954",
   "metadata": {
    "ExecuteTime": {
     "end_time": "2025-08-21T18:25:39.261951Z",
     "start_time": "2025-08-21T18:25:39.257293Z"
    }
   },
   "outputs": [
    {
     "name": "stdout",
     "output_type": "stream",
     "text": [
      "ich trainiere in epoche 0\n",
      "wir haben (0.0, 2.0) als trainings daten\n",
      "\tich habe 4.3 prediction\n",
      "\tich lag 2.3172 daneben\n",
      "neues weight: 1.8068 und neues bias: 3.8538\n",
      "wir haben (1.0, 2.5) als trainings daten\n",
      "\tich habe 5.7 prediction\n",
      "\tich lag 3.1605 daneben\n",
      "neues weight: 1.1747 und neues bias: 3.2216\n",
      "wir haben (2.0, 3.0) als trainings daten\n",
      "\tich habe 5.6 prediction\n",
      "\tich lag 2.5710 daneben\n",
      "neues weight: 0.1463 und neues bias: 2.7074\n",
      "wir haben (3.0, 3.5) als trainings daten\n",
      "\tich habe 3.1 prediction\n",
      "\tich lag -0.3537 daneben\n",
      "neues weight: 0.3585 und neues bias: 2.7782\n",
      "wir haben (4.0, 4.0) als trainings daten\n",
      "\tich habe 4.2 prediction\n",
      "\tich lag 0.2122 daneben\n",
      "neues weight: 0.1887 und neues bias: 2.7357\n",
      "wir haben (5.0, 4.5) als trainings daten\n",
      "\tich habe 3.7 prediction\n",
      "\tich lag -0.8206 daneben\n",
      "neues weight: 1.0094 und neues bias: 2.8999\n",
      "ich trainiere in epoche 1\n",
      "wir haben (0.0, 2.0) als trainings daten\n",
      "\tich habe 2.9 prediction\n",
      "\tich lag 0.8999 daneben\n",
      "neues weight: 1.0094 und neues bias: 2.7199\n",
      "wir haben (1.0, 2.5) als trainings daten\n",
      "\tich habe 3.7 prediction\n",
      "\tich lag 1.2293 daneben\n",
      "neues weight: 0.7635 und neues bias: 2.4740\n",
      "wir haben (2.0, 3.0) als trainings daten\n",
      "\tich habe 4.0 prediction\n",
      "\tich lag 1.0011 daneben\n",
      "neues weight: 0.3631 und neues bias: 2.2738\n",
      "wir haben (3.0, 3.5) als trainings daten\n",
      "\tich habe 3.4 prediction\n",
      "\tich lag -0.1369 daneben\n",
      "neues weight: 0.4452 und neues bias: 2.3012\n",
      "wir haben (4.0, 4.0) als trainings daten\n",
      "\tich habe 4.1 prediction\n",
      "\tich lag 0.0822 daneben\n",
      "neues weight: 0.3795 und neues bias: 2.2848\n",
      "wir haben (5.0, 4.5) als trainings daten\n",
      "\tich habe 4.2 prediction\n",
      "\tich lag -0.3176 daneben\n",
      "neues weight: 0.6972 und neues bias: 2.3483\n",
      "ich trainiere in epoche 2\n",
      "wir haben (0.0, 2.0) als trainings daten\n",
      "\tich habe 2.3 prediction\n",
      "\tich lag 0.3483 daneben\n",
      "neues weight: 0.6972 und neues bias: 2.2787\n",
      "wir haben (1.0, 2.5) als trainings daten\n",
      "\tich habe 3.0 prediction\n",
      "\tich lag 0.4758 daneben\n",
      "neues weight: 0.6020 und neues bias: 2.1835\n",
      "wir haben (2.0, 3.0) als trainings daten\n",
      "\tich habe 3.4 prediction\n",
      "\tich lag 0.3875 daneben\n",
      "neues weight: 0.4470 und neues bias: 2.1060\n",
      "wir haben (3.0, 3.5) als trainings daten\n",
      "\tich habe 3.4 prediction\n",
      "\tich lag -0.0530 daneben\n",
      "neues weight: 0.4788 und neues bias: 2.1166\n",
      "wir haben (4.0, 4.0) als trainings daten\n",
      "\tich habe 4.0 prediction\n",
      "\tich lag 0.0318 daneben\n",
      "neues weight: 0.4534 und neues bias: 2.1102\n",
      "wir haben (5.0, 4.5) als trainings daten\n",
      "\tich habe 4.4 prediction\n",
      "\tich lag -0.1230 daneben\n",
      "neues weight: 0.5763 und neues bias: 2.1348\n",
      "ich trainiere in epoche 3\n",
      "wir haben (0.0, 2.0) als trainings daten\n",
      "\tich habe 2.1 prediction\n",
      "\tich lag 0.1348 daneben\n",
      "neues weight: 0.5763 und neues bias: 2.1079\n",
      "wir haben (1.0, 2.5) als trainings daten\n",
      "\tich habe 2.7 prediction\n",
      "\tich lag 0.1842 daneben\n",
      "neues weight: 0.5395 und neues bias: 2.0710\n",
      "wir haben (2.0, 3.0) als trainings daten\n",
      "\tich habe 3.1 prediction\n",
      "\tich lag 0.1500 daneben\n",
      "neues weight: 0.4795 und neues bias: 2.0410\n",
      "wir haben (3.0, 3.5) als trainings daten\n",
      "\tich habe 3.5 prediction\n",
      "\tich lag -0.0205 daneben\n",
      "neues weight: 0.4918 und neues bias: 2.0451\n",
      "wir haben (4.0, 4.0) als trainings daten\n",
      "\tich habe 4.0 prediction\n",
      "\tich lag 0.0123 daneben\n",
      "neues weight: 0.4819 und neues bias: 2.0427\n",
      "wir haben (5.0, 4.5) als trainings daten\n",
      "\tich habe 4.5 prediction\n",
      "\tich lag -0.0476 daneben\n",
      "neues weight: 0.5295 und neues bias: 2.0522\n",
      "ich trainiere in epoche 4\n",
      "wir haben (0.0, 2.0) als trainings daten\n",
      "\tich habe 2.1 prediction\n",
      "\tich lag 0.0522 daneben\n",
      "neues weight: 0.5295 und neues bias: 2.0417\n",
      "wir haben (1.0, 2.5) als trainings daten\n",
      "\tich habe 2.6 prediction\n",
      "\tich lag 0.0713 daneben\n",
      "neues weight: 0.5153 und neues bias: 2.0275\n",
      "wir haben (2.0, 3.0) als trainings daten\n",
      "\tich habe 3.1 prediction\n",
      "\tich lag 0.0581 daneben\n",
      "neues weight: 0.4921 und neues bias: 2.0159\n",
      "wir haben (3.0, 3.5) als trainings daten\n",
      "\tich habe 3.5 prediction\n",
      "\tich lag -0.0079 daneben\n",
      "neues weight: 0.4968 und neues bias: 2.0175\n",
      "wir haben (4.0, 4.0) als trainings daten\n",
      "\tich habe 4.0 prediction\n",
      "\tich lag 0.0048 daneben\n",
      "neues weight: 0.4930 und neues bias: 2.0165\n",
      "wir haben (5.0, 4.5) als trainings daten\n",
      "\tich habe 4.5 prediction\n",
      "\tich lag -0.0184 daneben\n",
      "neues weight: 0.5114 und neues bias: 2.0202\n",
      "ich trainiere in epoche 5\n",
      "wir haben (0.0, 2.0) als trainings daten\n",
      "\tich habe 2.0 prediction\n",
      "\tich lag 0.0202 daneben\n",
      "neues weight: 0.5114 und neues bias: 2.0162\n",
      "wir haben (1.0, 2.5) als trainings daten\n",
      "\tich habe 2.5 prediction\n",
      "\tich lag 0.0276 daneben\n",
      "neues weight: 0.5059 und neues bias: 2.0106\n",
      "wir haben (2.0, 3.0) als trainings daten\n",
      "\tich habe 3.0 prediction\n",
      "\tich lag 0.0225 daneben\n",
      "neues weight: 0.4969 und neues bias: 2.0061\n",
      "wir haben (3.0, 3.5) als trainings daten\n",
      "\tich habe 3.5 prediction\n",
      "\tich lag -0.0031 daneben\n",
      "neues weight: 0.4988 und neues bias: 2.0068\n",
      "wir haben (4.0, 4.0) als trainings daten\n",
      "\tich habe 4.0 prediction\n",
      "\tich lag 0.0018 daneben\n",
      "neues weight: 0.4973 und neues bias: 2.0064\n",
      "wir haben (5.0, 4.5) als trainings daten\n",
      "\tich habe 4.5 prediction\n",
      "\tich lag -0.0071 daneben\n",
      "neues weight: 0.5044 und neues bias: 2.0078\n",
      "ich trainiere in epoche 6\n",
      "wir haben (0.0, 2.0) als trainings daten\n",
      "\tich habe 2.0 prediction\n",
      "\tich lag 0.0078 daneben\n",
      "neues weight: 0.5044 und neues bias: 2.0063\n",
      "wir haben (1.0, 2.5) als trainings daten\n",
      "\tich habe 2.5 prediction\n",
      "\tich lag 0.0107 daneben\n",
      "neues weight: 0.5023 und neues bias: 2.0041\n",
      "wir haben (2.0, 3.0) als trainings daten\n",
      "\tich habe 3.0 prediction\n",
      "\tich lag 0.0087 daneben\n",
      "neues weight: 0.4988 und neues bias: 2.0024\n",
      "wir haben (3.0, 3.5) als trainings daten\n",
      "\tich habe 3.5 prediction\n",
      "\tich lag -0.0012 daneben\n",
      "neues weight: 0.4995 und neues bias: 2.0026\n",
      "wir haben (4.0, 4.0) als trainings daten\n",
      "\tich habe 4.0 prediction\n",
      "\tich lag 0.0007 daneben\n",
      "neues weight: 0.4990 und neues bias: 2.0025\n",
      "wir haben (5.0, 4.5) als trainings daten\n",
      "\tich habe 4.5 prediction\n",
      "\tich lag -0.0028 daneben\n",
      "neues weight: 0.5017 und neues bias: 2.0030\n",
      "ich trainiere in epoche 7\n",
      "wir haben (0.0, 2.0) als trainings daten\n",
      "\tich habe 2.0 prediction\n",
      "\tich lag 0.0030 daneben\n",
      "neues weight: 0.5017 und neues bias: 2.0024\n",
      "wir haben (1.0, 2.5) als trainings daten\n",
      "\tich habe 2.5 prediction\n",
      "\tich lag 0.0041 daneben\n",
      "neues weight: 0.5009 und neues bias: 2.0016\n",
      "wir haben (2.0, 3.0) als trainings daten\n",
      "\tich habe 3.0 prediction\n",
      "\tich lag 0.0034 daneben\n",
      "neues weight: 0.4995 und neues bias: 2.0009\n",
      "wir haben (3.0, 3.5) als trainings daten\n",
      "\tich habe 3.5 prediction\n",
      "\tich lag -0.0005 daneben\n",
      "neues weight: 0.4998 und neues bias: 2.0010\n",
      "wir haben (4.0, 4.0) als trainings daten\n",
      "\tich habe 4.0 prediction\n",
      "\tich lag 0.0003 daneben\n",
      "neues weight: 0.4996 und neues bias: 2.0010\n",
      "wir haben (5.0, 4.5) als trainings daten\n",
      "\tich habe 4.5 prediction\n",
      "\tich lag -0.0011 daneben\n",
      "neues weight: 0.5007 und neues bias: 2.0012\n",
      "ich trainiere in epoche 8\n",
      "wir haben (0.0, 2.0) als trainings daten\n",
      "\tich habe 2.0 prediction\n",
      "\tich lag 0.0012 daneben\n",
      "neues weight: 0.5007 und neues bias: 2.0009\n",
      "wir haben (1.0, 2.5) als trainings daten\n",
      "\tich habe 2.5 prediction\n",
      "\tich lag 0.0016 daneben\n",
      "neues weight: 0.5003 und neues bias: 2.0006\n",
      "wir haben (2.0, 3.0) als trainings daten\n",
      "\tich habe 3.0 prediction\n",
      "\tich lag 0.0013 daneben\n",
      "neues weight: 0.4998 und neues bias: 2.0004\n",
      "wir haben (3.0, 3.5) als trainings daten\n",
      "\tich habe 3.5 prediction\n",
      "\tich lag -0.0002 daneben\n",
      "neues weight: 0.4999 und neues bias: 2.0004\n",
      "wir haben (4.0, 4.0) als trainings daten\n",
      "\tich habe 4.0 prediction\n",
      "\tich lag 0.0001 daneben\n",
      "neues weight: 0.4998 und neues bias: 2.0004\n",
      "wir haben (5.0, 4.5) als trainings daten\n",
      "\tich habe 4.5 prediction\n",
      "\tich lag -0.0004 daneben\n",
      "neues weight: 0.5003 und neues bias: 2.0005\n",
      "ich trainiere in epoche 9\n",
      "wir haben (0.0, 2.0) als trainings daten\n",
      "\tich habe 2.0 prediction\n",
      "\tich lag 0.0005 daneben\n",
      "neues weight: 0.5003 und neues bias: 2.0004\n",
      "wir haben (1.0, 2.5) als trainings daten\n",
      "\tich habe 2.5 prediction\n",
      "\tich lag 0.0006 daneben\n",
      "neues weight: 0.5001 und neues bias: 2.0002\n",
      "wir haben (2.0, 3.0) als trainings daten\n",
      "\tich habe 3.0 prediction\n",
      "\tich lag 0.0005 daneben\n",
      "neues weight: 0.4999 und neues bias: 2.0001\n",
      "wir haben (3.0, 3.5) als trainings daten\n",
      "\tich habe 3.5 prediction\n",
      "\tich lag -0.0001 daneben\n",
      "neues weight: 0.5000 und neues bias: 2.0002\n",
      "wir haben (4.0, 4.0) als trainings daten\n",
      "\tich habe 4.0 prediction\n",
      "\tich lag 0.0000 daneben\n",
      "neues weight: 0.4999 und neues bias: 2.0001\n",
      "wir haben (5.0, 4.5) als trainings daten\n",
      "\tich habe 4.5 prediction\n",
      "\tich lag -0.0002 daneben\n",
      "neues weight: 0.5001 und neues bias: 2.0002\n"
     ]
    }
   ],
   "source": [
    "historical_loss = []\n",
    "\n",
    "for epoch in range(epochs):\n",
    "    #total_loss = 0.0\n",
    "\n",
    "    print(f\"ich trainiere in epoche {epoch}\")\n",
    "    package = zip(x_inputs, y_train_inputs)\n",
    "\n",
    "    # alternative ohne zip/generator\n",
    "    #for i in range(len(x_inputs)):\n",
    "    #    x = x_inputs[i]\n",
    "    #    y_true = y_train_inputs[i]\n",
    "\n",
    "    # elegant mit zip/generator\n",
    "    for x, y_true in package:\n",
    "        print(f\"wir haben ({x:.1f}, {y_true:.1f}) als trainings daten\")\n",
    "\n",
    "        y_pred = weight * x + bias\n",
    "        print(f\"\\tich habe {y_pred:.1f} prediction\")\n",
    "\n",
    "        diff = y_pred - y_true\n",
    "        print(f\"\\tich lag {diff:.4f} daneben\")\n",
    "\n",
    "        # Mean Squared Error (pro Sample)\n",
    "        #loss = diff ** 2.0\n",
    "        #historical_loss.append(loss)\n",
    "        #total_loss += loss\n",
    "\n",
    "        # und NUN LERNT DAS MODEL\n",
    "        # Gradienten (MSE-Ableitung)\n",
    "        grad_w = 2.0 * diff * x\n",
    "        grad_b = 2.0 * diff\n",
    "\n",
    "        # wir passen weight und bias an\n",
    "        weight -= learning_rate * grad_w\n",
    "        bias -= learning_rate * grad_b\n",
    "        print(f\"neues weight: {weight:.4f} und neues bias: {bias:.4f}\")\n",
    "\n",
    "    # mittlerer Loss dieser Epoche\n",
    "    #mse = total_loss / len(x_inputs)\n",
    "\n",
    "    #if epoch % 10 == 0 or epoch == 1:\n",
    "    #    print(f\"Epoche {epoch:3d} | MSE={mse:.6f} | w={weight:.4f} | b={bias:.4f}\")"
   ]
  },
  {
   "cell_type": "markdown",
   "id": "49654f5ae5c8aea6",
   "metadata": {},
   "source": [
    "# Wir nutzen nun unser model für eine \"echte\" prediction"
   ]
  },
  {
   "cell_type": "code",
   "execution_count": 11,
   "id": "c4ffa7f5dea9698d",
   "metadata": {
    "ExecuteTime": {
     "end_time": "2025-08-21T18:26:06.856022Z",
     "start_time": "2025-08-21T18:26:06.853731Z"
    }
   },
   "outputs": [
    {
     "name": "stdout",
     "output_type": "stream",
     "text": [
      "38.221728163024665, 21.114836799729385\n"
     ]
    }
   ],
   "source": [
    "x_input = random.uniform(20, 50)\n",
    "y_model_pred = weight * x_input + bias\n",
    "\n",
    "print(f\"{x_input}, {y_model_pred}\")"
   ]
  },
  {
   "cell_type": "code",
   "execution_count": 12,
   "id": "561a136ae1190e9",
   "metadata": {
    "ExecuteTime": {
     "end_time": "2025-08-21T18:26:08.395783Z",
     "start_time": "2025-08-21T18:26:08.310358Z"
    }
   },
   "outputs": [
    {
     "data": {
      "image/png": "[encoded data removed]",
      "text/plain": [
       "<Figure size 640x480 with 1 Axes>"
      ]
     },
     "metadata": {},
     "output_type": "display_data"
    }
   ],
   "source": [
    "visualize(x_inputs + [x_input], y_train_inputs + [y_model_pred])"
   ]
  },
  {
   "cell_type": "code",
   "execution_count": 13,
   "id": "60913ead8126cb35",
   "metadata": {
    "ExecuteTime": {
     "end_time": "2025-08-21T18:25:39.390561Z",
     "start_time": "2025-08-21T18:25:39.348734Z"
    }
   },
   "outputs": [
    {
     "data": {
      "image/png": "[encoded data removed]",
      "text/plain": [
       "<Figure size 640x480 with 1 Axes>"
      ]
     },
     "metadata": {},
     "output_type": "display_data"
    }
   ],
   "source": [
    "plt.plot(historical_loss, label=\"Training Loss\")\n",
    "plt.xlabel(\"Epoch\")\n",
    "plt.ylabel(\"Loss (MSE)\")\n",
    "plt.title(\"Training Loss over Time\")\n",
    "plt.legend()\n",
    "plt.grid(True)\n",
    "plt.show()"
   ]
  },
  {
   "cell_type": "code",
   "execution_count": null,
   "id": "a7a7dfec-9d3a-4652-b29b-402320f145ea",
   "metadata": {},
   "outputs": [],
   "source": []
  }
 ],
 "metadata": {
  "kernelspec": {
   "display_name": "Python 3 (ipykernel)",
   "language": "python",
   "name": "python3"
  },
  "language_info": {
   "codemirror_mode": {
    "name": "ipython",
    "version": 3
   },
   "file_extension": ".py",
   "mimetype": "text/x-python",
   "name": "python",
   "nbconvert_exporter": "python",
   "pygments_lexer": "ipython3",
   "version": "3.13.7"
  }
 },
 "nbformat": 4,
 "nbformat_minor": 5
}
