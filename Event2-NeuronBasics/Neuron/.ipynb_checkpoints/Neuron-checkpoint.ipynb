{
 "cells": [
  {
   "cell_type": "markdown",
   "id": "715729f6-764c-42cb-9e4e-46f7a16b8d0f",
   "metadata": {},
   "source": [
    "# Neuron"
   ]
  },
  {
   "cell_type": "markdown",
   "id": "50398c67-dc36-4df8-8442-d49ee0039868",
   "metadata": {},
   "source": [
    "## Ausgangslage"
   ]
  },
  {
   "cell_type": "code",
   "execution_count": 197,
   "id": "05150e37-bdeb-4bf9-af10-f5c052b3cd06",
   "metadata": {},
   "outputs": [],
   "source": [
    "import matplotlib.pyplot as plt\n",
    "import random"
   ]
  },
  {
   "cell_type": "code",
   "execution_count": 198,
   "id": "17feaa41-ed42-4b8c-bc79-e65844721fcc",
   "metadata": {},
   "outputs": [],
   "source": [
    "x_inputs = [0, 1, 2, 3, 4, 5]\n",
    "y_train_inputs = [2, 2.5, 3, 3.5, 4, 4.5]"
   ]
  },
  {
   "cell_type": "code",
   "execution_count": 199,
   "id": "f3e7192d-9210-43d8-8aee-0fc8c45d7908",
   "metadata": {},
   "outputs": [
    {
     "data": {
      "image/png": "[encoded data removed]",
      "text/plain": [
       "<Figure size 640x480 with 1 Axes>"
      ]
     },
     "metadata": {},
     "output_type": "display_data"
    }
   ],
   "source": [
    "def visualize(x_inputs, y_train_inputs):\n",
    "    # Scatter plot (points)\n",
    "    plt.scatter(x_inputs, y_train_inputs, color=\"blue\", label=\"Data points\")\n",
    "\n",
    "    # Line plot (connects points)\n",
    "    plt.plot(x_inputs, y_train_inputs, color=\"orange\", linestyle=\"--\", label=\"Line\")\n",
    "\n",
    "    # Labels and title\n",
    "    plt.xlabel(\"X values\")\n",
    "    plt.ylabel(\"Y values\")\n",
    "    plt.title(\"Visualization of x_inputs vs y_train_inputs\")\n",
    "    plt.legend()\n",
    "\n",
    "    # Show the plot\n",
    "    plt.show()\n",
    "\n",
    "visualize(x_inputs, y_train_inputs)"
   ]
  },
  {
   "cell_type": "markdown",
   "id": "b7a7d1d4-da17-4487-86d1-a88b1287af4e",
   "metadata": {},
   "source": [
    "## Bereitstellung des Modells"
   ]
  },
  {
   "cell_type": "code",
   "execution_count": 200,
   "id": "518c3bec-ae1a-44fc-b588-38177888fbbd",
   "metadata": {},
   "outputs": [
    {
     "name": "stdout",
     "output_type": "stream",
     "text": [
      "Random weight: 1\n"
     ]
    }
   ],
   "source": [
    "weight = random.randint(1,10)\n",
    "print(f\"Random weight: {weight}\")"
   ]
  },
  {
   "cell_type": "code",
   "execution_count": 201,
   "id": "946f4f1e-1678-46b6-b377-6bf05f038a94",
   "metadata": {},
   "outputs": [
    {
     "name": "stdout",
     "output_type": "stream",
     "text": [
      "Random bias: 8\n"
     ]
    }
   ],
   "source": [
    "bias = random.randint(1,10)\n",
    "print(f\"Random bias: {bias}\")"
   ]
  },
  {
   "cell_type": "code",
   "execution_count": 202,
   "id": "c15ed05d-43be-443d-9648-df640be94968",
   "metadata": {},
   "outputs": [
    {
     "name": "stdout",
     "output_type": "stream",
     "text": [
      "Wir werden 10 Mal trainieren\n",
      "[0, 1, 2, 3, 4, 5, 6, 7, 8, 9]\n"
     ]
    }
   ],
   "source": [
    "epochs = 10\n",
    "print(f\"Wir werden {epochs} Mal trainieren\")\n",
    "print(list(range(epochs)))"
   ]
  },
  {
   "cell_type": "code",
   "execution_count": 203,
   "id": "a56f425d-9b5b-4bd8-adf6-3fafd0892e59",
   "metadata": {},
   "outputs": [
    {
     "name": "stdout",
     "output_type": "stream",
     "text": [
      "wir trainieren mit einer learning rate von 0.1\n"
     ]
    }
   ],
   "source": [
    "learning_rate = 0.1\n",
    "print(f\"wir trainieren mit einer learning rate von {learning_rate}\")"
   ]
  },
  {
   "cell_type": "code",
   "execution_count": 204,
   "id": "73ebfdd7-2195-4fed-8c58-264621a2378a",
   "metadata": {},
   "outputs": [
    {
     "name": "stdout",
     "output_type": "stream",
     "text": [
      "[(0, 2), (1, 2.5), (2, 3), (3, 3.5), (4, 4), (5, 4.5)]\n"
     ]
    }
   ],
   "source": [
    "package = zip(x_inputs, y_train_inputs)\n",
    "print(list(package))"
   ]
  },
  {
   "cell_type": "markdown",
   "id": "bcad9965-7ab2-450e-a8c9-4a55d49f78a7",
   "metadata": {},
   "source": [
    "## Start Training"
   ]
  },
  {
   "cell_type": "code",
   "execution_count": 205,
   "id": "52b70b18-0ba7-465b-a6eb-9d2beca3baff",
   "metadata": {},
   "outputs": [
    {
     "name": "stdout",
     "output_type": "stream",
     "text": [
      "Ich trainiere in Epoche 1\n",
      "\n",
      "\n",
      "Wir haben 0 und 2 als Trainings Daten\n",
      "Ich sage y vorraus: 8.00000000\n",
      "\u001b[31mIch lag um 6.00000000 daneben\u001b[0m\n",
      "Altes weight: 1.00000000 und Altes bias: 8.00000000\n",
      "neues weight: 1.00000000 und neues bias: 6.80000000\n",
      "Wir haben 1 und 2.5 als Trainings Daten\n",
      "Ich sage y vorraus: 7.80000000\n",
      "\u001b[31mIch lag um 5.30000000 daneben\u001b[0m\n",
      "Altes weight: 1.00000000 und Altes bias: 6.80000000\n",
      "neues weight: -0.06000000 und neues bias: 5.74000000\n",
      "Wir haben 2 und 3 als Trainings Daten\n",
      "Ich sage y vorraus: 5.62000000\n",
      "\u001b[31mIch lag um 2.62000000 daneben\u001b[0m\n",
      "Altes weight: -0.06000000 und Altes bias: 5.74000000\n",
      "neues weight: -1.10800000 und neues bias: 5.21600000\n",
      "Wir haben 3 und 3.5 als Trainings Daten\n",
      "Ich sage y vorraus: 1.89200000\n",
      "\u001b[31mIch lag um -1.60800000 daneben\u001b[0m\n",
      "Altes weight: -1.10800000 und Altes bias: 5.21600000\n",
      "neues weight: -0.14320000 und neues bias: 5.53760000\n",
      "Wir haben 4 und 4 als Trainings Daten\n",
      "Ich sage y vorraus: 4.96480000\n",
      "\u001b[31mIch lag um 0.96480000 daneben\u001b[0m\n",
      "Altes weight: -0.14320000 und Altes bias: 5.53760000\n",
      "neues weight: -0.91504000 und neues bias: 5.34464000\n",
      "Wir haben 5 und 4.5 als Trainings Daten\n",
      "Ich sage y vorraus: 0.76944000\n",
      "\u001b[31mIch lag um -3.73056000 daneben\u001b[0m\n",
      "Altes weight: -0.91504000 und Altes bias: 5.34464000\n",
      "neues weight: 2.81552000 und neues bias: 6.09075200\n",
      "Ich trainiere in Epoche 2\n",
      "\n",
      "\n",
      "Wir haben 0 und 2 als Trainings Daten\n",
      "Ich sage y vorraus: 6.09075200\n",
      "\u001b[31mIch lag um 4.09075200 daneben\u001b[0m\n",
      "Altes weight: 2.81552000 und Altes bias: 6.09075200\n",
      "neues weight: 2.81552000 und neues bias: 5.27260160\n",
      "Wir haben 1 und 2.5 als Trainings Daten\n",
      "Ich sage y vorraus: 8.08812160\n",
      "\u001b[31mIch lag um 5.58812160 daneben\u001b[0m\n",
      "Altes weight: 2.81552000 und Altes bias: 5.27260160\n",
      "neues weight: 1.69789568 und neues bias: 4.15497728\n",
      "Wir haben 2 und 3 als Trainings Daten\n",
      "Ich sage y vorraus: 7.55076864\n",
      "\u001b[31mIch lag um 4.55076864 daneben\u001b[0m\n",
      "Altes weight: 1.69789568 und Altes bias: 4.15497728\n",
      "neues weight: -0.12241178 und neues bias: 3.24482355\n",
      "Wir haben 3 und 3.5 als Trainings Daten\n",
      "Ich sage y vorraus: 2.87758822\n",
      "\u001b[31mIch lag um -0.62241178 daneben\u001b[0m\n",
      "Altes weight: -0.12241178 und Altes bias: 3.24482355\n",
      "neues weight: 0.25103529 und neues bias: 3.36930591\n",
      "Wir haben 4 und 4 als Trainings Daten\n",
      "Ich sage y vorraus: 4.37344707\n",
      "\u001b[31mIch lag um 0.37344707 daneben\u001b[0m\n",
      "Altes weight: 0.25103529 und Altes bias: 3.36930591\n",
      "neues weight: -0.04772236 und neues bias: 3.29461649\n",
      "Wir haben 5 und 4.5 als Trainings Daten\n",
      "Ich sage y vorraus: 3.05600468\n",
      "\u001b[31mIch lag um -1.44399532 daneben\u001b[0m\n",
      "Altes weight: -0.04772236 und Altes bias: 3.29461649\n",
      "neues weight: 1.39627296 und neues bias: 3.58341556\n",
      "Ich trainiere in Epoche 3\n",
      "\n",
      "\n",
      "Wir haben 0 und 2 als Trainings Daten\n",
      "Ich sage y vorraus: 3.58341556\n",
      "\u001b[31mIch lag um 1.58341556 daneben\u001b[0m\n",
      "Altes weight: 1.39627296 und Altes bias: 3.58341556\n",
      "neues weight: 1.39627296 und neues bias: 3.26673245\n",
      "Wir haben 1 und 2.5 als Trainings Daten\n",
      "Ich sage y vorraus: 4.66300540\n",
      "\u001b[31mIch lag um 2.16300540 daneben\u001b[0m\n",
      "Altes weight: 1.39627296 und Altes bias: 3.26673245\n",
      "neues weight: 0.96367188 und neues bias: 2.83413137\n",
      "Wir haben 2 und 3 als Trainings Daten\n",
      "Ich sage y vorraus: 4.76147512\n",
      "\u001b[31mIch lag um 1.76147512 daneben\u001b[0m\n",
      "Altes weight: 0.96367188 und Altes bias: 2.83413137\n",
      "neues weight: 0.25908183 und neues bias: 2.48183634\n",
      "Wir haben 3 und 3.5 als Trainings Daten\n",
      "Ich sage y vorraus: 3.25908183\n",
      "\u001b[31mIch lag um -0.24091817 daneben\u001b[0m\n",
      "Altes weight: 0.25908183 und Altes bias: 2.48183634\n",
      "neues weight: 0.40363273 und neues bias: 2.53001998\n",
      "Wir haben 4 und 4 als Trainings Daten\n",
      "Ich sage y vorraus: 4.14455090\n",
      "\u001b[31mIch lag um 0.14455090 daneben\u001b[0m\n",
      "Altes weight: 0.40363273 und Altes bias: 2.53001998\n",
      "neues weight: 0.28799201 und neues bias: 2.50110980\n",
      "Wir haben 5 und 4.5 als Trainings Daten\n",
      "Ich sage y vorraus: 3.94106984\n",
      "\u001b[31mIch lag um -0.55893016 daneben\u001b[0m\n",
      "Altes weight: 0.28799201 und Altes bias: 2.50110980\n",
      "neues weight: 0.84692217 und neues bias: 2.61289583\n",
      "Ich trainiere in Epoche 4\n",
      "\n",
      "\n",
      "Wir haben 0 und 2 als Trainings Daten\n",
      "Ich sage y vorraus: 2.61289583\n",
      "\u001b[31mIch lag um 0.61289583 daneben\u001b[0m\n",
      "Altes weight: 0.84692217 und Altes bias: 2.61289583\n",
      "neues weight: 0.84692217 und neues bias: 2.49031666\n",
      "Wir haben 1 und 2.5 als Trainings Daten\n",
      "Ich sage y vorraus: 3.33723883\n",
      "\u001b[31mIch lag um 0.83723883 daneben\u001b[0m\n",
      "Altes weight: 0.84692217 und Altes bias: 2.49031666\n",
      "neues weight: 0.67947440 und neues bias: 2.32286890\n",
      "Wir haben 2 und 3 als Trainings Daten\n",
      "Ich sage y vorraus: 3.68181770\n",
      "\u001b[31mIch lag um 0.68181770 daneben\u001b[0m\n",
      "Altes weight: 0.67947440 und Altes bias: 2.32286890\n",
      "neues weight: 0.40674732 und neues bias: 2.18650536\n",
      "Wir haben 3 und 3.5 als Trainings Daten\n",
      "Ich sage y vorraus: 3.40674732\n",
      "\u001b[31mIch lag um -0.09325268 daneben\u001b[0m\n",
      "Altes weight: 0.40674732 und Altes bias: 2.18650536\n",
      "neues weight: 0.46269893 und neues bias: 2.20515589\n",
      "Wir haben 4 und 4 als Trainings Daten\n",
      "Ich sage y vorraus: 4.05595161\n",
      "\u001b[31mIch lag um 0.05595161 daneben\u001b[0m\n",
      "Altes weight: 0.46269893 und Altes bias: 2.20515589\n",
      "neues weight: 0.41793764 und neues bias: 2.19396557\n",
      "Wir haben 5 und 4.5 als Trainings Daten\n",
      "Ich sage y vorraus: 4.28365379\n",
      "\u001b[31mIch lag um -0.21634621 daneben\u001b[0m\n",
      "Altes weight: 0.41793764 und Altes bias: 2.19396557\n",
      "neues weight: 0.63428386 und neues bias: 2.23723481\n",
      "Ich trainiere in Epoche 5\n",
      "\n",
      "\n",
      "Wir haben 0 und 2 als Trainings Daten\n",
      "Ich sage y vorraus: 2.23723481\n",
      "\u001b[31mIch lag um 0.23723481 daneben\u001b[0m\n",
      "Altes weight: 0.63428386 und Altes bias: 2.23723481\n",
      "neues weight: 0.63428386 und neues bias: 2.18978785\n",
      "Wir haben 1 und 2.5 als Trainings Daten\n",
      "Ich sage y vorraus: 2.82407171\n",
      "\u001b[31mIch lag um 0.32407171 daneben\u001b[0m\n",
      "Altes weight: 0.63428386 und Altes bias: 2.18978785\n",
      "neues weight: 0.56946952 und neues bias: 2.12497351\n",
      "Wir haben 2 und 3 als Trainings Daten\n",
      "Ich sage y vorraus: 3.26391254\n",
      "\u001b[31mIch lag um 0.26391254 daneben\u001b[0m\n",
      "Altes weight: 0.56946952 und Altes bias: 2.12497351\n",
      "neues weight: 0.46390450 und neues bias: 2.07219100\n",
      "Wir haben 3 und 3.5 als Trainings Daten\n",
      "Ich sage y vorraus: 3.46390450\n",
      "\u001b[31mIch lag um -0.03609550 daneben\u001b[0m\n",
      "Altes weight: 0.46390450 und Altes bias: 2.07219100\n",
      "neues weight: 0.48556180 und neues bias: 2.07941010\n",
      "Wir haben 4 und 4 als Trainings Daten\n",
      "Ich sage y vorraus: 4.02165730\n",
      "\u001b[31mIch lag um 0.02165730 daneben\u001b[0m\n",
      "Altes weight: 0.48556180 und Altes bias: 2.07941010\n",
      "neues weight: 0.46823596 und neues bias: 2.07507864\n",
      "Wir haben 5 und 4.5 als Trainings Daten\n",
      "Ich sage y vorraus: 4.41625844\n",
      "\u001b[31mIch lag um -0.08374156 daneben\u001b[0m\n",
      "Altes weight: 0.46823596 und Altes bias: 2.07507864\n",
      "neues weight: 0.55197752 und neues bias: 2.09182695\n",
      "Ich trainiere in Epoche 6\n",
      "\n",
      "\n",
      "Wir haben 0 und 2 als Trainings Daten\n",
      "Ich sage y vorraus: 2.09182695\n",
      "\u001b[31mIch lag um 0.09182695 daneben\u001b[0m\n",
      "Altes weight: 0.55197752 und Altes bias: 2.09182695\n",
      "neues weight: 0.55197752 und neues bias: 2.07346156\n",
      "Wir haben 1 und 2.5 als Trainings Daten\n",
      "Ich sage y vorraus: 2.62543908\n",
      "\u001b[31mIch lag um 0.12543908 daneben\u001b[0m\n",
      "Altes weight: 0.55197752 und Altes bias: 2.07346156\n",
      "neues weight: 0.52688970 und neues bias: 2.04837375\n",
      "Wir haben 2 und 3 als Trainings Daten\n",
      "Ich sage y vorraus: 3.10215315\n",
      "\u001b[31mIch lag um 0.10215315 daneben\u001b[0m\n",
      "Altes weight: 0.52688970 und Altes bias: 2.04837375\n",
      "neues weight: 0.48602844 und neues bias: 2.02794312\n",
      "Wir haben 3 und 3.5 als Trainings Daten\n",
      "Ich sage y vorraus: 3.48602844\n",
      "\u001b[31mIch lag um -0.01397156 daneben\u001b[0m\n",
      "Altes weight: 0.48602844 und Altes bias: 2.02794312\n",
      "neues weight: 0.49441138 und neues bias: 2.03073743\n",
      "Wir haben 4 und 4 als Trainings Daten\n",
      "Ich sage y vorraus: 4.00838293\n",
      "\u001b[31mIch lag um 0.00838293 daneben\u001b[0m\n",
      "Altes weight: 0.49441138 und Altes bias: 2.03073743\n",
      "neues weight: 0.48770503 und neues bias: 2.02906084\n",
      "Wir haben 5 und 4.5 als Trainings Daten\n",
      "Ich sage y vorraus: 4.46758599\n",
      "\u001b[31mIch lag um -0.03241401 daneben\u001b[0m\n",
      "Altes weight: 0.48770503 und Altes bias: 2.02906084\n",
      "neues weight: 0.52011904 und neues bias: 2.03554364\n",
      "Ich trainiere in Epoche 7\n",
      "\n",
      "\n",
      "Wir haben 0 und 2 als Trainings Daten\n",
      "Ich sage y vorraus: 2.03554364\n",
      "\u001b[31mIch lag um 0.03554364 daneben\u001b[0m\n",
      "Altes weight: 0.52011904 und Altes bias: 2.03554364\n",
      "neues weight: 0.52011904 und neues bias: 2.02843491\n",
      "Wir haben 1 und 2.5 als Trainings Daten\n",
      "Ich sage y vorraus: 2.54855396\n",
      "\u001b[31mIch lag um 0.04855396 daneben\u001b[0m\n",
      "Altes weight: 0.52011904 und Altes bias: 2.02843491\n",
      "neues weight: 0.51040825 und neues bias: 2.01872412\n",
      "Wir haben 2 und 3 als Trainings Daten\n",
      "Ich sage y vorraus: 3.03954063\n",
      "\u001b[31mIch lag um 0.03954063 daneben\u001b[0m\n",
      "Altes weight: 0.51040825 und Altes bias: 2.01872412\n",
      "neues weight: 0.49459200 und neues bias: 2.01081600\n",
      "Wir haben 3 und 3.5 als Trainings Daten\n",
      "Ich sage y vorraus: 3.49459200\n",
      "\u001b[31mIch lag um -0.00540800 daneben\u001b[0m\n",
      "Altes weight: 0.49459200 und Altes bias: 2.01081600\n",
      "neues weight: 0.49783680 und neues bias: 2.01189760\n",
      "Wir haben 4 und 4 als Trainings Daten\n",
      "Ich sage y vorraus: 4.00324480\n",
      "\u001b[31mIch lag um 0.00324480 daneben\u001b[0m\n",
      "Altes weight: 0.49783680 und Altes bias: 2.01189760\n",
      "neues weight: 0.49524096 und neues bias: 2.01124864\n",
      "Wir haben 5 und 4.5 als Trainings Daten\n",
      "Ich sage y vorraus: 4.48745344\n",
      "\u001b[31mIch lag um -0.01254656 daneben\u001b[0m\n",
      "Altes weight: 0.49524096 und Altes bias: 2.01124864\n",
      "neues weight: 0.50778752 und neues bias: 2.01375795\n",
      "Ich trainiere in Epoche 8\n",
      "\n",
      "\n",
      "Wir haben 0 und 2 als Trainings Daten\n",
      "Ich sage y vorraus: 2.01375795\n",
      "\u001b[31mIch lag um 0.01375795 daneben\u001b[0m\n",
      "Altes weight: 0.50778752 und Altes bias: 2.01375795\n",
      "neues weight: 0.50778752 und neues bias: 2.01100636\n",
      "Wir haben 1 und 2.5 als Trainings Daten\n",
      "Ich sage y vorraus: 2.51879388\n",
      "\u001b[31mIch lag um 0.01879388 daneben\u001b[0m\n",
      "Altes weight: 0.50778752 und Altes bias: 2.01100636\n",
      "neues weight: 0.50402874 und neues bias: 2.00724758\n",
      "Wir haben 2 und 3 als Trainings Daten\n",
      "Ich sage y vorraus: 3.01530507\n",
      "\u001b[31mIch lag um 0.01530507 daneben\u001b[0m\n",
      "Altes weight: 0.50402874 und Altes bias: 2.00724758\n",
      "neues weight: 0.49790672 und neues bias: 2.00418657\n",
      "Wir haben 3 und 3.5 als Trainings Daten\n",
      "Ich sage y vorraus: 3.49790672\n",
      "\u001b[31mIch lag um -0.00209328 daneben\u001b[0m\n",
      "Altes weight: 0.49790672 und Altes bias: 2.00418657\n",
      "neues weight: 0.49916269 und neues bias: 2.00460523\n",
      "Wir haben 4 und 4 als Trainings Daten\n",
      "Ich sage y vorraus: 4.00125597\n",
      "\u001b[31mIch lag um 0.00125597 daneben\u001b[0m\n",
      "Altes weight: 0.49916269 und Altes bias: 2.00460523\n",
      "neues weight: 0.49815791 und neues bias: 2.00435403\n",
      "Wir haben 5 und 4.5 als Trainings Daten\n",
      "Ich sage y vorraus: 4.49514358\n",
      "\u001b[31mIch lag um -0.00485642 daneben\u001b[0m\n",
      "Altes weight: 0.49815791 und Altes bias: 2.00435403\n",
      "neues weight: 0.50301433 und neues bias: 2.00532532\n",
      "Ich trainiere in Epoche 9\n",
      "\n",
      "\n",
      "Wir haben 0 und 2 als Trainings Daten\n",
      "Ich sage y vorraus: 2.00532532\n",
      "\u001b[31mIch lag um 0.00532532 daneben\u001b[0m\n",
      "Altes weight: 0.50301433 und Altes bias: 2.00532532\n",
      "neues weight: 0.50301433 und neues bias: 2.00426025\n",
      "Wir haben 1 und 2.5 als Trainings Daten\n",
      "Ich sage y vorraus: 2.50727458\n",
      "\u001b[31mIch lag um 0.00727458 daneben\u001b[0m\n",
      "Altes weight: 0.50301433 und Altes bias: 2.00426025\n",
      "neues weight: 0.50155941 und neues bias: 2.00280534\n",
      "Wir haben 2 und 3 als Trainings Daten\n",
      "Ich sage y vorraus: 3.00592416\n",
      "\u001b[31mIch lag um 0.00592416 daneben\u001b[0m\n",
      "Altes weight: 0.50155941 und Altes bias: 2.00280534\n",
      "neues weight: 0.49918975 und neues bias: 2.00162050\n",
      "Wir haben 3 und 3.5 als Trainings Daten\n",
      "Ich sage y vorraus: 3.49918975\n",
      "\u001b[31mIch lag um -0.00081025 daneben\u001b[0m\n",
      "Altes weight: 0.49918975 und Altes bias: 2.00162050\n",
      "neues weight: 0.49967590 und neues bias: 2.00178255\n",
      "Wir haben 4 und 4 als Trainings Daten\n",
      "Ich sage y vorraus: 4.00048615\n",
      "\u001b[31mIch lag um 0.00048615 daneben\u001b[0m\n",
      "Altes weight: 0.49967590 und Altes bias: 2.00178255\n",
      "neues weight: 0.49928698 und neues bias: 2.00168532\n",
      "Wir haben 5 und 4.5 als Trainings Daten\n",
      "Ich sage y vorraus: 4.49812022\n",
      "\u001b[31mIch lag um -0.00187978 daneben\u001b[0m\n",
      "Altes weight: 0.49928698 und Altes bias: 2.00168532\n",
      "neues weight: 0.50116676 und neues bias: 2.00206128\n",
      "Ich trainiere in Epoche 10\n",
      "\n",
      "\n",
      "Wir haben 0 und 2 als Trainings Daten\n",
      "Ich sage y vorraus: 2.00206128\n",
      "\u001b[31mIch lag um 0.00206128 daneben\u001b[0m\n",
      "Altes weight: 0.50116676 und Altes bias: 2.00206128\n",
      "neues weight: 0.50116676 und neues bias: 2.00164902\n",
      "Wir haben 1 und 2.5 als Trainings Daten\n",
      "Ich sage y vorraus: 2.50281579\n",
      "\u001b[31mIch lag um 0.00281579 daneben\u001b[0m\n",
      "Altes weight: 0.50116676 und Altes bias: 2.00164902\n",
      "neues weight: 0.50060361 und neues bias: 2.00108587\n",
      "Wir haben 2 und 3 als Trainings Daten\n",
      "Ich sage y vorraus: 3.00229308\n",
      "\u001b[31mIch lag um 0.00229308 daneben\u001b[0m\n",
      "Altes weight: 0.50060361 und Altes bias: 2.00108587\n",
      "neues weight: 0.49968637 und neues bias: 2.00062725\n",
      "Wir haben 3 und 3.5 als Trainings Daten\n",
      "Ich sage y vorraus: 3.49968637\n",
      "\u001b[31mIch lag um -0.00031363 daneben\u001b[0m\n",
      "Altes weight: 0.49968637 und Altes bias: 2.00062725\n",
      "neues weight: 0.49987455 und neues bias: 2.00068998\n",
      "Wir haben 4 und 4 als Trainings Daten\n",
      "Ich sage y vorraus: 4.00018818\n",
      "\u001b[31mIch lag um 0.00018818 daneben\u001b[0m\n",
      "Altes weight: 0.49987455 und Altes bias: 2.00068998\n",
      "neues weight: 0.49972401 und neues bias: 2.00065234\n",
      "Wir haben 5 und 4.5 als Trainings Daten\n",
      "Ich sage y vorraus: 4.49927239\n",
      "\u001b[31mIch lag um -0.00072761 daneben\u001b[0m\n",
      "Altes weight: 0.49972401 und Altes bias: 2.00065234\n",
      "neues weight: 0.50045162 und neues bias: 2.00079786\n"
     ]
    }
   ],
   "source": [
    "for epoch in range(epochs):\n",
    "    print(f\"Ich trainiere in Epoche {epoch+1}\")\n",
    "    \n",
    "    package = zip(x_inputs, y_train_inputs)\n",
    "    \n",
    "    print(\"\\n\")\n",
    "    \n",
    "    for x, y_true in package:\n",
    "        print(f\"Wir haben {x} und {y_true} als Trainings Daten\")\n",
    "\n",
    "        y_pred = weight * x + bias\n",
    "        print(f\"Ich sage y vorraus: {y_pred:.8f}\")\n",
    "\n",
    "        diff = y_pred - y_true\n",
    "        print(f\"\\033[31mIch lag um {diff:.8f} daneben\\033[0m\")\n",
    "\n",
    "        # Mean Squared Error (pro Sample)\n",
    "        #loss = diff ** 2.0\n",
    "        #historical_loss.append(loss)\n",
    "        #total_loss += loss\n",
    "\n",
    "        # und NUN LERNT DAS MODEL\n",
    "        # Gradienten (MSE-Ableitung)\n",
    "        grad_w = 2.0 * diff * x\n",
    "        grad_b = 2.0 * diff\n",
    "\n",
    "\n",
    "        print(f\"Altes weight: {weight:.8f} und Altes bias: {bias:.8f}\")\n",
    "        # wir passen weight und bias an\n",
    "        weight -= learning_rate * grad_w\n",
    "        bias -= learning_rate * grad_b\n",
    "        print(f\"neues weight: {weight:.8f} und neues bias: {bias:.8f}\")\n",
    "\n",
    "    "
   ]
  },
  {
   "cell_type": "markdown",
   "id": "84a5251d-1713-4b44-b305-ce62b33f11bf",
   "metadata": {},
   "source": [
    "# Usage"
   ]
  },
  {
   "cell_type": "code",
   "execution_count": 210,
   "id": "9cf23f1f-bca0-4a44-a952-bd1dc116256e",
   "metadata": {},
   "outputs": [
    {
     "name": "stdout",
     "output_type": "stream",
     "text": [
      "-8, -2.002815105638274\n"
     ]
    }
   ],
   "source": [
    "x_input = -8\n",
    "y_model_pred = weight * x_input + bias\n",
    "\n",
    "print(f\"{x_input}, {y_model_pred}\")"
   ]
  },
  {
   "cell_type": "code",
   "execution_count": 211,
   "id": "a4a3116b-874d-474c-9398-34a0d843833f",
   "metadata": {},
   "outputs": [
    {
     "data": {
      "image/png": "[encoded data removed]",
      "text/plain": [
       "<Figure size 640x480 with 1 Axes>"
      ]
     },
     "metadata": {},
     "output_type": "display_data"
    }
   ],
   "source": [
    "visualize(x_inputs + [x_input], y_train_inputs + [y_model_pred])"
   ]
  },
  {
   "cell_type": "code",
   "execution_count": 34,
   "id": "bde80b54-5584-4e8e-bea8-d529a2d8a43d",
   "metadata": {},
   "outputs": [
    {
     "ename": "NameError",
     "evalue": "name 'historical_loss' is not defined",
     "output_type": "error",
     "traceback": [
      "\u001b[31m---------------------------------------------------------------------------\u001b[39m",
      "\u001b[31mNameError\u001b[39m                                 Traceback (most recent call last)",
      "\u001b[36mCell\u001b[39m\u001b[36m \u001b[39m\u001b[32mIn[34]\u001b[39m\u001b[32m, line 1\u001b[39m\n\u001b[32m----> \u001b[39m\u001b[32m1\u001b[39m plt.plot(\u001b[43mhistorical_loss\u001b[49m, label=\u001b[33m\"\u001b[39m\u001b[33mTraining Loss\u001b[39m\u001b[33m\"\u001b[39m)\n\u001b[32m      2\u001b[39m plt.xlabel(\u001b[33m\"\u001b[39m\u001b[33mEpoch\u001b[39m\u001b[33m\"\u001b[39m)\n\u001b[32m      3\u001b[39m plt.ylabel(\u001b[33m\"\u001b[39m\u001b[33mLoss (MSE)\u001b[39m\u001b[33m\"\u001b[39m)\n",
      "\u001b[31mNameError\u001b[39m: name 'historical_loss' is not defined"
     ]
    }
   ],
   "source": [
    "plt.plot(historical_loss, label=\"Training Loss\")\n",
    "plt.xlabel(\"Epoch\")\n",
    "plt.ylabel(\"Loss (MSE)\")\n",
    "plt.title(\"Training Loss over Time\")\n",
    "plt.legend()\n",
    "plt.grid(True)\n",
    "plt.show()"
   ]
  },
  {
   "cell_type": "code",
   "execution_count": null,
   "id": "b0d9e79a-a4e6-4a95-a51f-72d24f5dc40c",
   "metadata": {},
   "outputs": [],
   "source": []
  }
 ],
 "metadata": {
  "kernelspec": {
   "display_name": "Python 3 (ipykernel)",
   "language": "python",
   "name": "python3"
  },
  "language_info": {
   "codemirror_mode": {
    "name": "ipython",
    "version": 3
   },
   "file_extension": ".py",
   "mimetype": "text/x-python",
   "name": "python",
   "nbconvert_exporter": "python",
   "pygments_lexer": "ipython3",
   "version": "3.13.7"
  }
 },
 "nbformat": 4,
 "nbformat_minor": 5
}
