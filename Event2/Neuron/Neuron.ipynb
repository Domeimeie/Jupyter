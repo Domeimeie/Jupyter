{
 "cells": [
  {
   "cell_type": "markdown",
   "id": "715729f6-764c-42cb-9e4e-46f7a16b8d0f",
   "metadata": {},
   "source": [
    "# Neuron"
   ]
  },
  {
   "cell_type": "markdown",
   "id": "50398c67-dc36-4df8-8442-d49ee0039868",
   "metadata": {},
   "source": [
    "## Ausgangslage"
   ]
  },
  {
   "cell_type": "code",
   "execution_count": 2,
   "id": "05150e37-bdeb-4bf9-af10-f5c052b3cd06",
   "metadata": {},
   "outputs": [],
   "source": [
    "import matplotlib.pyplot as plt\n",
    "import random"
   ]
  },
  {
   "cell_type": "code",
   "execution_count": 3,
   "id": "17feaa41-ed42-4b8c-bc79-e65844721fcc",
   "metadata": {},
   "outputs": [],
   "source": [
    "x_inputs = [0, 1, 2, 3, 4, 5]\n",
    "y_train_inputs = [2, 2.5, 3, 3.5, 4, 4.5]"
   ]
  },
  {
   "cell_type": "code",
   "execution_count": 16,
   "id": "f3e7192d-9210-43d8-8aee-0fc8c45d7908",
   "metadata": {},
   "outputs": [
    {
     "data": {
      "image/png": "[encoded data removed]",
      "text/plain": [
       "<Figure size 640x480 with 1 Axes>"
      ]
     },
     "metadata": {},
     "output_type": "display_data"
    }
   ],
   "source": [
    "def visualize(x_inputs, y_train_inputs):\n",
    "    # Scatter plot (points)\n",
    "    plt.scatter(x_inputs, y_train_inputs, color=\"blue\", label=\"Data points\")\n",
    "\n",
    "    # Line plot (connects points)\n",
    "    plt.plot(x_inputs, y_train_inputs, color=\"orange\", linestyle=\"--\", label=\"Line\")\n",
    "\n",
    "    # Labels and title\n",
    "    plt.xlabel(\"X values\")\n",
    "    plt.ylabel(\"Y values\")\n",
    "    plt.title(\"Visualization of x_inputs vs y_train_inputs\")\n",
    "    plt.legend()\n",
    "\n",
    "    # Show the plot\n",
    "    plt.show()\n",
    "\n",
    "visualize(x_inputs, y_train_inputs)\n"
   ]
  },
  {
   "cell_type": "markdown",
   "id": "b7a7d1d4-da17-4487-86d1-a88b1287af4e",
   "metadata": {},
   "source": [
    "## Bereitstellung des Modells"
   ]
  },
  {
   "cell_type": "code",
   "execution_count": 5,
   "id": "518c3bec-ae1a-44fc-b588-38177888fbbd",
   "metadata": {},
   "outputs": [
    {
     "name": "stdout",
     "output_type": "stream",
     "text": [
      "Random weight: 7\n"
     ]
    }
   ],
   "source": [
    "weight = random.randint(1,10)\n",
    "print(f\"Random weight: {weight}\")"
   ]
  },
  {
   "cell_type": "code",
   "execution_count": 6,
   "id": "946f4f1e-1678-46b6-b377-6bf05f038a94",
   "metadata": {},
   "outputs": [
    {
     "name": "stdout",
     "output_type": "stream",
     "text": [
      "Random bias: 7\n"
     ]
    }
   ],
   "source": [
    "bias = random.randint(1,10)\n",
    "print(f\"Random bias: {bias}\")"
   ]
  },
  {
   "cell_type": "code",
   "execution_count": 7,
   "id": "c15ed05d-43be-443d-9648-df640be94968",
   "metadata": {},
   "outputs": [
    {
     "name": "stdout",
     "output_type": "stream",
     "text": [
      "Wir werden 10 Mal trainieren\n"
     ]
    }
   ],
   "source": [
    "epochs = 10\n",
    "learningrate = 0.1\n",
    "print(f\"Wir werden {epochs} Mal trainieren\")"
   ]
  },
  {
   "cell_type": "code",
   "execution_count": 8,
   "id": "a56f425d-9b5b-4bd8-adf6-3fafd0892e59",
   "metadata": {},
   "outputs": [
    {
     "name": "stdout",
     "output_type": "stream",
     "text": [
      "wir trainieren mit einer learning rate von 0.1\n"
     ]
    }
   ],
   "source": [
    "learning_rate = 0.1\n",
    "print(f\"wir trainieren mit einer learning rate von {learning_rate}\")"
   ]
  },
  {
   "cell_type": "markdown",
   "id": "bcad9965-7ab2-450e-a8c9-4a55d49f78a7",
   "metadata": {},
   "source": [
    "## Start Training"
   ]
  },
  {
   "cell_type": "code",
   "execution_count": 18,
   "id": "52b70b18-0ba7-465b-a6eb-9d2beca3baff",
   "metadata": {},
   "outputs": [
    {
     "name": "stdout",
     "output_type": "stream",
     "text": [
      "Ich trainiere in Epoche 1\n",
      "\n",
      "\n",
      "Wir haben 0 und 2 als Trainings Daten\n",
      "Ich sage y vorraus: 1.9999999999996603\n",
      "Ich lag um -3.397282455352979e-13 daneben\n",
      "neues weight: 0.5000 und neues bias: 2.0000\n",
      "Wir haben 1 und 2.5 als Trainings Daten\n",
      "Ich sage y vorraus: 2.4999999999995373\n",
      "Ich lag um -4.627409566637652e-13 daneben\n",
      "neues weight: 0.5000 und neues bias: 2.0000\n",
      "Wir haben 2 und 3 als Trainings Daten\n",
      "Ich sage y vorraus: 2.999999999999624\n",
      "Ich lag um -3.7614356074300304e-13 daneben\n",
      "neues weight: 0.5000 und neues bias: 2.0000\n",
      "Wir haben 3 und 3.5 als Trainings Daten\n",
      "Ich sage y vorraus: 3.5000000000000524\n",
      "Ich lag um 5.240252676230739e-14 daneben\n",
      "neues weight: 0.5000 und neues bias: 2.0000\n",
      "Wir haben 4 und 4 als Trainings Daten\n",
      "Ich sage y vorraus: 3.999999999999968\n",
      "Ich lag um -3.197442310920451e-14 daneben\n",
      "neues weight: 0.5000 und neues bias: 2.0000\n",
      "Wir haben 5 und 4.5 als Trainings Daten\n",
      "Ich sage y vorraus: 4.500000000000123\n",
      "Ich lag um 1.2256862191861728e-13 daneben\n",
      "neues weight: 0.5000 und neues bias: 2.0000\n",
      "Ich trainiere in Epoche 2\n",
      "\n",
      "\n",
      "Wir haben 0 und 2 als Trainings Daten\n",
      "Ich sage y vorraus: 1.9999999999998677\n",
      "Ich lag um -1.3233858453531866e-13 daneben\n",
      "neues weight: 0.5000 und neues bias: 2.0000\n",
      "Wir haben 1 und 2.5 als Trainings Daten\n",
      "Ich sage y vorraus: 2.499999999999818\n",
      "Ich lag um -1.8207657603852567e-13 daneben\n",
      "neues weight: 0.5000 und neues bias: 2.0000\n",
      "Wir haben 2 und 3 als Trainings Daten\n",
      "Ich sage y vorraus: 2.999999999999851\n",
      "Ich lag um -1.4921397450962104e-13 daneben\n",
      "neues weight: 0.5000 und neues bias: 2.0000\n",
      "Wir haben 3 und 3.5 als Trainings Daten\n",
      "Ich sage y vorraus: 3.5000000000000195\n",
      "Ich lag um 1.9539925233402755e-14 daneben\n",
      "neues weight: 0.5000 und neues bias: 2.0000\n",
      "Wir haben 4 und 4 als Trainings Daten\n",
      "Ich sage y vorraus: 3.9999999999999885\n",
      "Ich lag um -1.1546319456101628e-14 daneben\n",
      "neues weight: 0.5000 und neues bias: 2.0000\n",
      "Wir haben 5 und 4.5 als Trainings Daten\n",
      "Ich sage y vorraus: 4.500000000000044\n",
      "Ich lag um 4.440892098500626e-14 daneben\n",
      "neues weight: 0.5000 und neues bias: 2.0000\n",
      "Ich trainiere in Epoche 3\n",
      "\n",
      "\n",
      "Wir haben 0 und 2 als Trainings Daten\n",
      "Ich sage y vorraus: 1.9999999999999496\n",
      "Ich lag um -5.040412531798211e-14 daneben\n",
      "neues weight: 0.5000 und neues bias: 2.0000\n",
      "Wir haben 1 und 2.5 als Trainings Daten\n",
      "Ich sage y vorraus: 2.4999999999999325\n",
      "Ich lag um -6.750155989720952e-14 daneben\n",
      "neues weight: 0.5000 und neues bias: 2.0000\n",
      "Wir haben 2 und 3 als Trainings Daten\n",
      "Ich sage y vorraus: 2.999999999999946\n",
      "Ich lag um -5.417888360170764e-14 daneben\n",
      "neues weight: 0.5000 und neues bias: 2.0000\n",
      "Wir haben 3 und 3.5 als Trainings Daten\n",
      "Ich sage y vorraus: 3.500000000000008\n",
      "Ich lag um 7.993605777301127e-15 daneben\n",
      "neues weight: 0.5000 und neues bias: 2.0000\n",
      "Wir haben 4 und 4 als Trainings Daten\n",
      "Ich sage y vorraus: 3.9999999999999956\n",
      "Ich lag um -4.440892098500626e-15 daneben\n",
      "neues weight: 0.5000 und neues bias: 2.0000\n",
      "Wir haben 5 und 4.5 als Trainings Daten\n",
      "Ich sage y vorraus: 4.500000000000017\n",
      "Ich lag um 1.687538997430238e-14 daneben\n",
      "neues weight: 0.5000 und neues bias: 2.0000\n",
      "Ich trainiere in Epoche 4\n",
      "\n",
      "\n",
      "Wir haben 0 und 2 als Trainings Daten\n",
      "Ich sage y vorraus: 1.99999999999998\n",
      "Ich lag um -1.9984014443252818e-14 daneben\n",
      "neues weight: 0.5000 und neues bias: 2.0000\n",
      "Wir haben 1 und 2.5 als Trainings Daten\n",
      "Ich sage y vorraus: 2.499999999999974\n",
      "Ich lag um -2.6201263381153694e-14 daneben\n",
      "neues weight: 0.5000 und neues bias: 2.0000\n",
      "Wir haben 2 und 3 als Trainings Daten\n",
      "Ich sage y vorraus: 2.9999999999999796\n",
      "Ich lag um -2.042810365310288e-14 daneben\n",
      "neues weight: 0.5000 und neues bias: 2.0000\n",
      "Wir haben 3 und 3.5 als Trainings Daten\n",
      "Ich sage y vorraus: 3.5000000000000036\n",
      "Ich lag um 3.552713678800501e-15 daneben\n",
      "neues weight: 0.5000 und neues bias: 2.0000\n",
      "Wir haben 4 und 4 als Trainings Daten\n",
      "Ich sage y vorraus: 3.9999999999999973\n",
      "Ich lag um -2.6645352591003757e-15 daneben\n",
      "neues weight: 0.5000 und neues bias: 2.0000\n",
      "Wir haben 5 und 4.5 als Trainings Daten\n",
      "Ich sage y vorraus: 4.50000000000001\n",
      "Ich lag um 9.769962616701378e-15 daneben\n",
      "neues weight: 0.5000 und neues bias: 2.0000\n",
      "Ich trainiere in Epoche 5\n",
      "\n",
      "\n",
      "Wir haben 0 und 2 als Trainings Daten\n",
      "Ich sage y vorraus: 1.9999999999999911\n",
      "Ich lag um -8.881784197001252e-15 daneben\n",
      "neues weight: 0.5000 und neues bias: 2.0000\n",
      "Wir haben 1 und 2.5 als Trainings Daten\n",
      "Ich sage y vorraus: 2.4999999999999867\n",
      "Ich lag um -1.3322676295501878e-14 daneben\n",
      "neues weight: 0.5000 und neues bias: 2.0000\n",
      "Wir haben 2 und 3 als Trainings Daten\n",
      "Ich sage y vorraus: 2.999999999999988\n",
      "Ich lag um -1.199040866595169e-14 daneben\n",
      "neues weight: 0.5000 und neues bias: 2.0000\n",
      "Wir haben 3 und 3.5 als Trainings Daten\n",
      "Ich sage y vorraus: 3.500000000000001\n",
      "Ich lag um 8.881784197001252e-16 daneben\n",
      "neues weight: 0.5000 und neues bias: 2.0000\n",
      "Wir haben 4 und 4 als Trainings Daten\n",
      "Ich sage y vorraus: 3.9999999999999996\n",
      "Ich lag um -4.440892098500626e-16 daneben\n",
      "neues weight: 0.5000 und neues bias: 2.0000\n",
      "Wir haben 5 und 4.5 als Trainings Daten\n",
      "Ich sage y vorraus: 4.500000000000002\n",
      "Ich lag um 1.7763568394002505e-15 daneben\n",
      "neues weight: 0.5000 und neues bias: 2.0000\n",
      "Ich trainiere in Epoche 6\n",
      "\n",
      "\n",
      "Wir haben 0 und 2 als Trainings Daten\n",
      "Ich sage y vorraus: 1.9999999999999973\n",
      "Ich lag um -2.6645352591003757e-15 daneben\n",
      "neues weight: 0.5000 und neues bias: 2.0000\n",
      "Wir haben 1 und 2.5 als Trainings Daten\n",
      "Ich sage y vorraus: 2.499999999999997\n",
      "Ich lag um -3.1086244689504383e-15 daneben\n",
      "neues weight: 0.5000 und neues bias: 2.0000\n",
      "Wir haben 2 und 3 als Trainings Daten\n",
      "Ich sage y vorraus: 2.999999999999998\n",
      "Ich lag um -2.220446049250313e-15 daneben\n",
      "neues weight: 0.5000 und neues bias: 2.0000\n",
      "Wir haben 3 und 3.5 als Trainings Daten\n",
      "Ich sage y vorraus: 3.5\n",
      "Ich lag um 0.0 daneben\n",
      "neues weight: 0.5000 und neues bias: 2.0000\n",
      "Wir haben 4 und 4 als Trainings Daten\n",
      "Ich sage y vorraus: 4.000000000000001\n",
      "Ich lag um 8.881784197001252e-16 daneben\n",
      "neues weight: 0.5000 und neues bias: 2.0000\n",
      "Wir haben 5 und 4.5 als Trainings Daten\n",
      "Ich sage y vorraus: 4.499999999999997\n",
      "Ich lag um -2.6645352591003757e-15 daneben\n",
      "neues weight: 0.5000 und neues bias: 2.0000\n",
      "Ich trainiere in Epoche 7\n",
      "\n",
      "\n",
      "Wir haben 0 und 2 als Trainings Daten\n",
      "Ich sage y vorraus: 1.9999999999999991\n",
      "Ich lag um -8.881784197001252e-16 daneben\n",
      "neues weight: 0.5000 und neues bias: 2.0000\n",
      "Wir haben 1 und 2.5 als Trainings Daten\n",
      "Ich sage y vorraus: 2.5000000000000018\n",
      "Ich lag um 1.7763568394002505e-15 daneben\n",
      "neues weight: 0.5000 und neues bias: 2.0000\n",
      "Wir haben 2 und 3 als Trainings Daten\n",
      "Ich sage y vorraus: 3.000000000000003\n",
      "Ich lag um 3.1086244689504383e-15 daneben\n",
      "neues weight: 0.5000 und neues bias: 2.0000\n",
      "Wir haben 3 und 3.5 als Trainings Daten\n",
      "Ich sage y vorraus: 3.500000000000001\n",
      "Ich lag um 8.881784197001252e-16 daneben\n",
      "neues weight: 0.5000 und neues bias: 2.0000\n",
      "Wir haben 4 und 4 als Trainings Daten\n",
      "Ich sage y vorraus: 3.999999999999999\n",
      "Ich lag um -8.881784197001252e-16 daneben\n",
      "neues weight: 0.5000 und neues bias: 2.0000\n",
      "Wir haben 5 und 4.5 als Trainings Daten\n",
      "Ich sage y vorraus: 4.5000000000000036\n",
      "Ich lag um 3.552713678800501e-15 daneben\n",
      "neues weight: 0.5000 und neues bias: 2.0000\n",
      "Ich trainiere in Epoche 8\n",
      "\n",
      "\n",
      "Wir haben 0 und 2 als Trainings Daten\n",
      "Ich sage y vorraus: 1.9999999999999976\n",
      "Ich lag um -2.4424906541753444e-15 daneben\n",
      "neues weight: 0.5000 und neues bias: 2.0000\n",
      "Wir haben 1 und 2.5 als Trainings Daten\n",
      "Ich sage y vorraus: 2.4999999999999956\n",
      "Ich lag um -4.440892098500626e-15 daneben\n",
      "neues weight: 0.5000 und neues bias: 2.0000\n",
      "Wir haben 2 und 3 als Trainings Daten\n",
      "Ich sage y vorraus: 2.9999999999999956\n",
      "Ich lag um -4.440892098500626e-15 daneben\n",
      "neues weight: 0.5000 und neues bias: 2.0000\n",
      "Wir haben 3 und 3.5 als Trainings Daten\n",
      "Ich sage y vorraus: 3.5\n",
      "Ich lag um 0.0 daneben\n",
      "neues weight: 0.5000 und neues bias: 2.0000\n",
      "Wir haben 4 und 4 als Trainings Daten\n",
      "Ich sage y vorraus: 4.0\n",
      "Ich lag um 0.0 daneben\n",
      "neues weight: 0.5000 und neues bias: 2.0000\n",
      "Wir haben 5 und 4.5 als Trainings Daten\n",
      "Ich sage y vorraus: 4.5\n",
      "Ich lag um 0.0 daneben\n",
      "neues weight: 0.5000 und neues bias: 2.0000\n",
      "Ich trainiere in Epoche 9\n",
      "\n",
      "\n",
      "Wir haben 0 und 2 als Trainings Daten\n",
      "Ich sage y vorraus: 1.9999999999999998\n",
      "Ich lag um -2.220446049250313e-16 daneben\n",
      "neues weight: 0.5000 und neues bias: 2.0000\n",
      "Wir haben 1 und 2.5 als Trainings Daten\n",
      "Ich sage y vorraus: 2.5\n",
      "Ich lag um 0.0 daneben\n",
      "neues weight: 0.5000 und neues bias: 2.0000\n",
      "Wir haben 2 und 3 als Trainings Daten\n",
      "Ich sage y vorraus: 3.0\n",
      "Ich lag um 0.0 daneben\n",
      "neues weight: 0.5000 und neues bias: 2.0000\n",
      "Wir haben 3 und 3.5 als Trainings Daten\n",
      "Ich sage y vorraus: 3.5\n",
      "Ich lag um 0.0 daneben\n",
      "neues weight: 0.5000 und neues bias: 2.0000\n",
      "Wir haben 4 und 4 als Trainings Daten\n",
      "Ich sage y vorraus: 4.0\n",
      "Ich lag um 0.0 daneben\n",
      "neues weight: 0.5000 und neues bias: 2.0000\n",
      "Wir haben 5 und 4.5 als Trainings Daten\n",
      "Ich sage y vorraus: 4.5\n",
      "Ich lag um 0.0 daneben\n",
      "neues weight: 0.5000 und neues bias: 2.0000\n",
      "Ich trainiere in Epoche 10\n",
      "\n",
      "\n",
      "Wir haben 0 und 2 als Trainings Daten\n",
      "Ich sage y vorraus: 1.9999999999999998\n",
      "Ich lag um -2.220446049250313e-16 daneben\n",
      "neues weight: 0.5000 und neues bias: 2.0000\n",
      "Wir haben 1 und 2.5 als Trainings Daten\n",
      "Ich sage y vorraus: 2.5\n",
      "Ich lag um 0.0 daneben\n",
      "neues weight: 0.5000 und neues bias: 2.0000\n",
      "Wir haben 2 und 3 als Trainings Daten\n",
      "Ich sage y vorraus: 3.0\n",
      "Ich lag um 0.0 daneben\n",
      "neues weight: 0.5000 und neues bias: 2.0000\n",
      "Wir haben 3 und 3.5 als Trainings Daten\n",
      "Ich sage y vorraus: 3.5\n",
      "Ich lag um 0.0 daneben\n",
      "neues weight: 0.5000 und neues bias: 2.0000\n",
      "Wir haben 4 und 4 als Trainings Daten\n",
      "Ich sage y vorraus: 4.0\n",
      "Ich lag um 0.0 daneben\n",
      "neues weight: 0.5000 und neues bias: 2.0000\n",
      "Wir haben 5 und 4.5 als Trainings Daten\n",
      "Ich sage y vorraus: 4.5\n",
      "Ich lag um 0.0 daneben\n",
      "neues weight: 0.5000 und neues bias: 2.0000\n"
     ]
    }
   ],
   "source": [
    "for epoch in range(epochs):\n",
    "    print(f\"Ich trainiere in Epoche {epoch+1}\")\n",
    "    \n",
    "    package = zip(x_inputs, y_train_inputs)\n",
    "    \n",
    "    print(\"\\n\")\n",
    "    \n",
    "    for x, y_true in package:\n",
    "        print(f\"Wir haben {x} und {y_true} als Trainings Daten\")\n",
    "\n",
    "        y_pred = weight * x + bias\n",
    "        print(f\"Ich sage y vorraus: {y_pred}\")\n",
    "\n",
    "        diff = y_pred - y_true\n",
    "        print(f\"Ich lag um {diff} daneben\")\n",
    "\n",
    "        # Mean Squared Error (pro Sample)\n",
    "        #loss = diff ** 2.0\n",
    "        #historical_loss.append(loss)\n",
    "        #total_loss += loss\n",
    "\n",
    "        # und NUN LERNT DAS MODEL\n",
    "        # Gradienten (MSE-Ableitung)\n",
    "        grad_w = 2.0 * diff * x\n",
    "        grad_b = 2.0 * diff\n",
    "\n",
    "        # wir passen weight und bias an\n",
    "        weight -= learning_rate * grad_w\n",
    "        bias -= learning_rate * grad_b\n",
    "        print(f\"neues weight: {weight:.4f} und neues bias: {bias:.4f}\")\n",
    "\n",
    "    "
   ]
  },
  {
   "cell_type": "markdown",
   "id": "84a5251d-1713-4b44-b305-ce62b33f11bf",
   "metadata": {},
   "source": [
    "# Usage"
   ]
  },
  {
   "cell_type": "code",
   "execution_count": 19,
   "id": "9cf23f1f-bca0-4a44-a952-bd1dc116256e",
   "metadata": {},
   "outputs": [
    {
     "name": "stdout",
     "output_type": "stream",
     "text": [
      "20, 12.000000000000002\n"
     ]
    }
   ],
   "source": [
    "x_input = 20\n",
    "y_model_pred = weight * x_input + bias\n",
    "\n",
    "print(f\"{x_input}, {y_model_pred}\")"
   ]
  },
  {
   "cell_type": "code",
   "execution_count": 17,
   "id": "a4a3116b-874d-474c-9398-34a0d843833f",
   "metadata": {},
   "outputs": [
    {
     "data": {
      "image/png": "[encoded data removed]",
      "text/plain": [
       "<Figure size 640x480 with 1 Axes>"
      ]
     },
     "metadata": {},
     "output_type": "display_data"
    }
   ],
   "source": [
    "visualize(x_inputs + [x_input], y_train_inputs + [y_model_pred])"
   ]
  },
  {
   "cell_type": "code",
   "execution_count": null,
   "id": "bde80b54-5584-4e8e-bea8-d529a2d8a43d",
   "metadata": {},
   "outputs": [],
   "source": []
  }
 ],
 "metadata": {
  "kernelspec": {
   "display_name": "Python 3 (ipykernel)",
   "language": "python",
   "name": "python3"
  },
  "language_info": {
   "codemirror_mode": {
    "name": "ipython",
    "version": 3
   },
   "file_extension": ".py",
   "mimetype": "text/x-python",
   "name": "python",
   "nbconvert_exporter": "python",
   "pygments_lexer": "ipython3",
   "version": "3.13.7"
  }
 },
 "nbformat": 4,
 "nbformat_minor": 5
}
