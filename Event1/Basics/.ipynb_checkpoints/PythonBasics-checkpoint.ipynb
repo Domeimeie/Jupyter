{
 "cells": [
  {
   "cell_type": "markdown",
   "id": "f398d7c7-5887-4d0f-88c3-10bfae9db606",
   "metadata": {},
   "source": [
    "# Init"
   ]
  },
  {
   "cell_type": "markdown",
   "id": "c20dbb45-86a7-422e-8245-f658ba9540f4",
   "metadata": {},
   "source": [
    "Eine Zelle ist ein Code Segmet"
   ]
  },
  {
   "cell_type": "markdown",
   "id": "038d6d0d-5171-451a-afa2-69b202833a2a",
   "metadata": {},
   "source": [
    "## Variable"
   ]
  },
  {
   "cell_type": "code",
   "execution_count": 14,
   "id": "cc415602-e894-41ac-879d-c7293b7e5625",
   "metadata": {},
   "outputs": [
    {
     "name": "stdout",
     "output_type": "stream",
     "text": [
      "Test\n"
     ]
    }
   ],
   "source": [
    "banana = \"Test\"\n",
    "print(banana)"
   ]
  },
  {
   "cell_type": "markdown",
   "id": "5a6e0476-cd07-41f1-8e4b-6c4994561ca5",
   "metadata": {},
   "source": [
    "## List"
   ]
  },
  {
   "cell_type": "code",
   "execution_count": 29,
   "id": "8e0fe3aa-8909-4b09-bb98-2f5ad6b5fcfa",
   "metadata": {},
   "outputs": [
    {
     "name": "stdout",
     "output_type": "stream",
     "text": [
      "['Birke', 'Eiche', 'Ahorn']\n",
      "Eiche\n",
      "['Birke', 'Eiche', 'Ahorn', 'Waldbrand']\n"
     ]
    }
   ],
   "source": [
    "wald = [\"Birke\", \"Eiche\", \"Ahorn\"]\n",
    "print(wald)\n",
    "print(wald[1])\n",
    "wald.append(\"Waldbrand\")\n",
    "print(wald)"
   ]
  },
  {
   "cell_type": "markdown",
   "id": "f748ec52-0050-4752-9082-2a929c169981",
   "metadata": {},
   "source": [
    "## Dictionary"
   ]
  },
  {
   "cell_type": "code",
   "execution_count": 30,
   "id": "c4099447-eaec-4a66-aec9-473ab4c1bf6c",
   "metadata": {},
   "outputs": [
    {
     "name": "stdout",
     "output_type": "stream",
     "text": [
      "{'Tierart': 'Katze', 'Gewicht': '20.5kg'}\n",
      "Katze\n"
     ]
    }
   ],
   "source": [
    "tier = {\n",
    "    \"Tierart\": \"Katze\",\n",
    "    \"Gewicht\": \"20.5kg\"}\n",
    "\n",
    "print(tier)\n",
    "print(tier.get(\"Tierart\"))"
   ]
  },
  {
   "cell_type": "markdown",
   "id": "1d1e13fa-8417-41f5-ba31-1d507da0455b",
   "metadata": {},
   "source": [
    "# Sets"
   ]
  },
  {
   "cell_type": "code",
   "execution_count": 31,
   "id": "aa60aa2d-ee7d-4f8c-a01a-e5b51a5e0e3a",
   "metadata": {},
   "outputs": [
    {
     "name": "stdout",
     "output_type": "stream",
     "text": [
      "['Katze', 'Hund', 'Katze', 'Papagei', 'Katze']\n",
      "{'Papagei', 'Katze', 'Hund'}\n"
     ]
    }
   ],
   "source": [
    "tiere = [\"Katze\", \"Hund\", \"Katze\", \"Papagei\", \"Katze\"]\n",
    "print(tiere)\n",
    "noDupe_Tiere=set(tiere)\n",
    "print(noDupe_Tiere)"
   ]
  },
  {
   "cell_type": "code",
   "execution_count": null,
   "id": "f507925d-2025-47b6-81e9-06666fef047e",
   "metadata": {},
   "outputs": [],
   "source": []
  }
 ],
 "metadata": {
  "kernelspec": {
   "display_name": "Python 3 (ipykernel)",
   "language": "python",
   "name": "python3"
  },
  "language_info": {
   "codemirror_mode": {
    "name": "ipython",
    "version": 3
   },
   "file_extension": ".py",
   "mimetype": "text/x-python",
   "name": "python",
   "nbconvert_exporter": "python",
   "pygments_lexer": "ipython3",
   "version": "3.13.6"
  }
 },
 "nbformat": 4,
 "nbformat_minor": 5
}
